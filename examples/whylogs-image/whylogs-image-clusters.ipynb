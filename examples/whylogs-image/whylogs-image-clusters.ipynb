{
 "cells": [
  {
   "cell_type": "markdown",
   "metadata": {},
   "source": [
    "# Overview"
   ]
  },
  {
   "cell_type": "code",
   "execution_count": 8,
   "metadata": {},
   "outputs": [
    {
     "name": "stdout",
     "output_type": "stream",
     "text": [
      "Requirement already satisfied: torch in /Users/leandro/Library/Caches/pypoetry/virtualenvs/whylogs-vWIOXmxX-py3.8/lib/python3.8/site-packages (1.9.0)\n",
      "Requirement already satisfied: torchvision in /Users/leandro/Library/Caches/pypoetry/virtualenvs/whylogs-vWIOXmxX-py3.8/lib/python3.8/site-packages (0.10.0)\n",
      "Requirement already satisfied: seaborn in /Users/leandro/Library/Caches/pypoetry/virtualenvs/whylogs-vWIOXmxX-py3.8/lib/python3.8/site-packages (0.11.1)\n",
      "Requirement already satisfied: tqdm in /Users/leandro/Library/Caches/pypoetry/virtualenvs/whylogs-vWIOXmxX-py3.8/lib/python3.8/site-packages (4.61.0)\n",
      "Requirement already satisfied: scipy>=1.0 in /Users/leandro/Library/Caches/pypoetry/virtualenvs/whylogs-vWIOXmxX-py3.8/lib/python3.8/site-packages (from seaborn) (1.5.4)\n",
      "Requirement already satisfied: numpy>=1.15 in /Users/leandro/Library/Caches/pypoetry/virtualenvs/whylogs-vWIOXmxX-py3.8/lib/python3.8/site-packages (from seaborn) (1.19.5)\n",
      "Requirement already satisfied: pandas>=0.23 in /Users/leandro/Library/Caches/pypoetry/virtualenvs/whylogs-vWIOXmxX-py3.8/lib/python3.8/site-packages (from seaborn) (1.1.5)\n",
      "Requirement already satisfied: matplotlib>=2.2 in /Users/leandro/Library/Caches/pypoetry/virtualenvs/whylogs-vWIOXmxX-py3.8/lib/python3.8/site-packages (from seaborn) (3.3.3)\n",
      "Requirement already satisfied: kiwisolver>=1.0.1 in /Users/leandro/Library/Caches/pypoetry/virtualenvs/whylogs-vWIOXmxX-py3.8/lib/python3.8/site-packages (from matplotlib>=2.2->seaborn) (1.3.1)\n",
      "Requirement already satisfied: cycler>=0.10 in /Users/leandro/Library/Caches/pypoetry/virtualenvs/whylogs-vWIOXmxX-py3.8/lib/python3.8/site-packages (from matplotlib>=2.2->seaborn) (0.10.0)\n",
      "Requirement already satisfied: pyparsing!=2.0.4,!=2.1.2,!=2.1.6,>=2.0.3 in /Users/leandro/Library/Caches/pypoetry/virtualenvs/whylogs-vWIOXmxX-py3.8/lib/python3.8/site-packages (from matplotlib>=2.2->seaborn) (2.4.7)\n",
      "Requirement already satisfied: python-dateutil>=2.1 in /Users/leandro/Library/Caches/pypoetry/virtualenvs/whylogs-vWIOXmxX-py3.8/lib/python3.8/site-packages (from matplotlib>=2.2->seaborn) (2.8.1)\n",
      "Requirement already satisfied: pillow>=6.2.0 in /Users/leandro/Library/Caches/pypoetry/virtualenvs/whylogs-vWIOXmxX-py3.8/lib/python3.8/site-packages (from matplotlib>=2.2->seaborn) (8.2.0)\n",
      "Requirement already satisfied: six in /Users/leandro/Library/Caches/pypoetry/virtualenvs/whylogs-vWIOXmxX-py3.8/lib/python3.8/site-packages (from cycler>=0.10->matplotlib>=2.2->seaborn) (1.16.0)\n",
      "Requirement already satisfied: pytz>=2017.2 in /Users/leandro/Library/Caches/pypoetry/virtualenvs/whylogs-vWIOXmxX-py3.8/lib/python3.8/site-packages (from pandas>=0.23->seaborn) (2021.1)\n",
      "Requirement already satisfied: typing-extensions in /Users/leandro/Library/Caches/pypoetry/virtualenvs/whylogs-vWIOXmxX-py3.8/lib/python3.8/site-packages (from torch) (3.10.0.0)\n",
      "\u001b[33mWARNING: You are using pip version 21.0.1; however, version 21.1.3 is available.\n",
      "You should consider upgrading via the '/Users/leandro/Library/Caches/pypoetry/virtualenvs/whylogs-vWIOXmxX-py3.8/bin/python -m pip install --upgrade pip' command.\u001b[0m\n"
     ]
    }
   ],
   "source": [
    "!pip install torch torchvision seaborn tqdm"
   ]
  },
  {
   "cell_type": "markdown",
   "metadata": {},
   "source": [
    "----- Train Set\n",
    "1. Generates embeddings with feature extractor (ImageModel)\n",
    "2. Normalize embeddings\n",
    "3. Reduce Dimensionality with PCA for visualization\n",
    "4. Use labels to get cluster center coordinates of embeddings\n",
    "\n",
    "----- Test Set\n",
    "5. Generates embeddings\n",
    "6. Normalize embeddings\n",
    "7. Reduce Dimensionality with PCA for visualization\n",
    "8. Plot histogram of distance of each embedding to cluster centers"
   ]
  },
  {
   "cell_type": "markdown",
   "metadata": {},
   "source": [
    "The idea is to extract images from 2 different groups: \"Horse\" vs \"Automobile\" in order to get the cluster center coordinates from the trainset.\n",
    "\n",
    "Simulating the production stage, to simulate a data drift, we could:\n",
    "- Log a batch with only one main category (e.g. \"Horse\")\n",
    "- Add an unseen categories in the training phase (\"Bird\")\n",
    "\n",
    "And check the histogram of distances to each cluster center to see if there's any difference between the expected distribution (if we had logged images of, and only of, both large land animals and vehicles)\n"
   ]
  },
  {
   "cell_type": "code",
   "execution_count": 9,
   "metadata": {},
   "outputs": [],
   "source": [
    "import torch\n",
    "from tqdm import tqdm\n",
    "from torch import optim, nn\n",
    "from torchvision import models, transforms,datasets"
   ]
  },
  {
   "cell_type": "markdown",
   "metadata": {},
   "source": [
    "# Feature Extractor"
   ]
  },
  {
   "cell_type": "code",
   "execution_count": 4,
   "metadata": {},
   "outputs": [],
   "source": [
    "class ImageModel(nn.Module):\n",
    "    def __init__(self, pretrained, nrof_densenet_blocks_retrain, unlock_norms=False):\n",
    "        super().__init__()\n",
    "        self.pretrained = pretrained\n",
    "        self.nrof_densenet_blocks_retrain = nrof_densenet_blocks_retrain\n",
    "        self.unlock_norms = unlock_norms\n",
    "        self.net = self.load_image_model()\n",
    "    def forward(self, images):\n",
    "        return self.net(images).squeeze(3).squeeze(2)\n",
    "    def load_image_model(self):\n",
    "        net = models.densenet121(pretrained=self.pretrained)\n",
    "        if self.nrof_densenet_blocks_retrain != 5:\n",
    "            stop_layer = [4, 3, 2, 1, 0, -1][self.nrof_densenet_blocks_retrain]\n",
    "            for name, param in net.named_parameters():\n",
    "                if \"classifier\" in name:\n",
    "                    continue\n",
    "                layer = int(name.split(\".\")[1][-1])\n",
    "                layer = min(layer, 4)\n",
    "                if layer <= stop_layer:\n",
    "                    if not (self.unlock_norms and \"norm\" in name):\n",
    "                        param.requires_grad = False\n",
    "        return nn.Sequential(*(list(net.children())[:-1]) + [nn.AdaptiveAvgPool2d((1,1))])"
   ]
  },
  {
   "cell_type": "code",
   "execution_count": 5,
   "metadata": {},
   "outputs": [],
   "source": [
    "model = models.densenet121(pretrained=True)\n",
    "feature_extractor = ImageModel(model,2)"
   ]
  },
  {
   "cell_type": "markdown",
   "metadata": {},
   "source": [
    "# Dataset"
   ]
  },
  {
   "cell_type": "code",
   "execution_count": 6,
   "metadata": {},
   "outputs": [
    {
     "name": "stdout",
     "output_type": "stream",
     "text": [
      "Files already downloaded and verified\n"
     ]
    }
   ],
   "source": [
    "preprocess = transforms.Compose([\n",
    "    transforms.Resize(256),\n",
    "    transforms.CenterCrop(224),\n",
    "    transforms.ToTensor(),\n",
    "    transforms.Normalize(mean=[0.485, 0.456, 0.406], std=[0.229, 0.224, 0.225]),\n",
    "])\n",
    "\n",
    "trainset = datasets.CIFAR10('./data',\n",
    "    download=True,\n",
    "    train=True,\n",
    "    transform=preprocess)\n",
    "\n",
    "# dataloader\n",
    "trainloader = torch.utils.data.DataLoader(trainset, batch_size=500,\n",
    "                                        shuffle=True, num_workers=1)"
   ]
  },
  {
   "cell_type": "markdown",
   "metadata": {},
   "source": [
    "# Train Set"
   ]
  },
  {
   "cell_type": "markdown",
   "metadata": {},
   "source": [
    "## Generate Features"
   ]
  },
  {
   "cell_type": "markdown",
   "metadata": {},
   "source": [
    "Let's get 10 batches of 500 images and select only the classes we want. Then we generate the feature embeddings and associated labels from the original dataset."
   ]
  },
  {
   "cell_type": "code",
   "execution_count": 43,
   "metadata": {},
   "outputs": [
    {
     "name": "stderr",
     "output_type": "stream",
     "text": [
      "  7%|▋         | 1/15 [00:57<13:21, 57.28s/it]"
     ]
    },
    {
     "name": "stdout",
     "output_type": "stream",
     "text": [
      "0\n"
     ]
    },
    {
     "name": "stderr",
     "output_type": "stream",
     "text": [
      "\r",
      " 13%|█▎        | 2/15 [01:50<11:50, 54.64s/it]"
     ]
    },
    {
     "name": "stdout",
     "output_type": "stream",
     "text": [
      "1\n"
     ]
    },
    {
     "name": "stderr",
     "output_type": "stream",
     "text": [
      "\r",
      " 20%|██        | 3/15 [02:46<11:06, 55.53s/it]"
     ]
    },
    {
     "name": "stdout",
     "output_type": "stream",
     "text": [
      "2\n"
     ]
    },
    {
     "name": "stderr",
     "output_type": "stream",
     "text": [
      "\r",
      " 27%|██▋       | 4/15 [03:36<09:46, 53.35s/it]"
     ]
    },
    {
     "name": "stdout",
     "output_type": "stream",
     "text": [
      "3\n"
     ]
    },
    {
     "name": "stderr",
     "output_type": "stream",
     "text": [
      "\r",
      " 33%|███▎      | 5/15 [04:27<08:46, 52.60s/it]"
     ]
    },
    {
     "name": "stdout",
     "output_type": "stream",
     "text": [
      "4\n"
     ]
    },
    {
     "name": "stderr",
     "output_type": "stream",
     "text": [
      "\r",
      " 40%|████      | 6/15 [05:19<07:49, 52.12s/it]"
     ]
    },
    {
     "name": "stdout",
     "output_type": "stream",
     "text": [
      "5\n"
     ]
    },
    {
     "name": "stderr",
     "output_type": "stream",
     "text": [
      "\r",
      " 47%|████▋     | 7/15 [06:12<07:00, 52.61s/it]"
     ]
    },
    {
     "name": "stdout",
     "output_type": "stream",
     "text": [
      "6\n"
     ]
    },
    {
     "name": "stderr",
     "output_type": "stream",
     "text": [
      "\r",
      " 53%|█████▎    | 8/15 [07:06<06:09, 52.84s/it]"
     ]
    },
    {
     "name": "stdout",
     "output_type": "stream",
     "text": [
      "7\n"
     ]
    },
    {
     "name": "stderr",
     "output_type": "stream",
     "text": [
      "\r",
      " 60%|██████    | 9/15 [07:57<05:14, 52.35s/it]"
     ]
    },
    {
     "name": "stdout",
     "output_type": "stream",
     "text": [
      "8\n"
     ]
    },
    {
     "name": "stderr",
     "output_type": "stream",
     "text": [
      "\r",
      " 67%|██████▋   | 10/15 [08:48<04:19, 51.98s/it]"
     ]
    },
    {
     "name": "stdout",
     "output_type": "stream",
     "text": [
      "9\n"
     ]
    },
    {
     "name": "stderr",
     "output_type": "stream",
     "text": [
      "\r",
      " 73%|███████▎  | 11/15 [09:41<03:28, 52.21s/it]"
     ]
    },
    {
     "name": "stdout",
     "output_type": "stream",
     "text": [
      "10\n"
     ]
    },
    {
     "name": "stderr",
     "output_type": "stream",
     "text": [
      "\r",
      " 80%|████████  | 12/15 [10:32<02:35, 51.95s/it]"
     ]
    },
    {
     "name": "stdout",
     "output_type": "stream",
     "text": [
      "11\n"
     ]
    },
    {
     "name": "stderr",
     "output_type": "stream",
     "text": [
      "\r",
      " 87%|████████▋ | 13/15 [11:22<01:42, 51.36s/it]"
     ]
    },
    {
     "name": "stdout",
     "output_type": "stream",
     "text": [
      "12\n"
     ]
    },
    {
     "name": "stderr",
     "output_type": "stream",
     "text": [
      "\r",
      " 93%|█████████▎| 14/15 [12:13<00:51, 51.36s/it]"
     ]
    },
    {
     "name": "stdout",
     "output_type": "stream",
     "text": [
      "13\n"
     ]
    },
    {
     "name": "stderr",
     "output_type": "stream",
     "text": [
      "100%|██████████| 15/15 [13:01<00:00, 52.09s/it]"
     ]
    },
    {
     "name": "stdout",
     "output_type": "stream",
     "text": [
      "14\n"
     ]
    },
    {
     "name": "stderr",
     "output_type": "stream",
     "text": [
      "\n"
     ]
    }
   ],
   "source": [
    "classes = ('airplane', 'automobile', 'bird', 'cat', 'deer',\n",
    "        'dog', 'frog', 'horse', 'ship', 'truck')\n",
    "classes_tokeep = ('automobile','horse','bird', 'cat', 'deer','ship')\n",
    "\n",
    "# features = torch.empty(0, 1024)\n",
    "# labels = torch.empty(0)\n",
    "features = []\n",
    "labels = []\n",
    "for i in tqdm(range(15)):\n",
    "    images, lbs = iter(trainloader).next()\n",
    "    tuples = [(x,y) for x,y in zip(images,lbs) if classes[y] in classes_tokeep]\n",
    "    images = torch.stack([x[0] for x in tuples])\n",
    "    lbs = torch.tensor([x[1] for x in tuples])\n",
    "    class_labels = [classes[lab] for lab in lbs]\n",
    "\n",
    "    if torch.cuda.is_available():\n",
    "        input_batch = input_batch.to('cuda')\n",
    "        new_model.to('cuda')\n",
    "\n",
    "    with torch.no_grad():\n",
    "        ft = feature_extractor(images)\n",
    "    features.extend(ft)\n",
    "    labels.extend(lbs)\n",
    "    print(i)\n"
   ]
  },
  {
   "cell_type": "code",
   "execution_count": 10,
   "metadata": {},
   "outputs": [],
   "source": [
    "# import pickle\n",
    "# features = []\n",
    "# labels = []\n",
    "# with open(\"features.pkl\",\"wb\") as f:\n",
    "#     pickle.dump(features,f)\n",
    "    \n",
    "# with open(\"labels.pkl\",\"wb\") as f:\n",
    "#     pickle.dump(labels,f)"
   ]
  },
  {
   "cell_type": "markdown",
   "metadata": {},
   "source": [
    "Let's split the extracted embedding and labels into a train-test"
   ]
  },
  {
   "cell_type": "code",
   "execution_count": null,
   "metadata": {},
   "outputs": [],
   "source": [
    "import numpy as np\n",
    "from sklearn.model_selection import train_test_split\n",
    "\n",
    "features,features_p,labels,labels_p = train_test_split(features,labels)\n",
    "features = nn.functional.normalize(torch.stack(features), p=2, dim=1)\n",
    "features_p = nn.functional.normalize(torch.stack(features_p), p=2, dim=1)"
   ]
  },
  {
   "cell_type": "markdown",
   "metadata": {},
   "source": [
    "## Reduce and Clusterize"
   ]
  },
  {
   "cell_type": "code",
   "execution_count": null,
   "metadata": {},
   "outputs": [],
   "source": [
    "import pandas as pd\n",
    "df = pd.DataFrame()\n",
    "df['features'] = features\n",
    "df['labels'] = [x.item() for x in labels]\n",
    "\n",
    "df_p = pd.DataFrame()\n",
    "df_p['features'] = features_p\n",
    "df_p['labels'] = [x.item() for x in labels_p]"
   ]
  },
  {
   "cell_type": "code",
   "execution_count": 13,
   "metadata": {},
   "outputs": [],
   "source": [
    "import numpy as np\n",
    "from sklearn.manifold import TSNE\n",
    "from sklearn.cluster import DBSCAN\n",
    "from sklearn.decomposition import PCA\n",
    "import pandas as pd"
   ]
  },
  {
   "cell_type": "code",
   "execution_count": null,
   "metadata": {},
   "outputs": [],
   "source": [
    "features_np = features.numpy()\n",
    "pca = PCA(n_components=50)\n",
    "ft_pca = pca.fit_transform(features_np)\n",
    "\n",
    "df['pca-one'] = ft_pca[:,0]\n",
    "df['pca-two'] = ft_pca[:,1] \n",
    "df['pca-three'] = ft_pca[:,2]\n",
    "\n",
    "featuresp_np = features_p.numpy()\n",
    "ftp_pca = pca.transform(featuresp_np)\n",
    "\n",
    "df_p['pca-one'] = ftp_pca[:,0]\n",
    "df_p['pca-two'] = ftp_pca[:,1] \n",
    "df_p['pca-three'] = ftp_pca[:,2]\n",
    "\n",
    "\n",
    "print('Explained variation per principal component: {}'.format(pca.explained_variance_ratio_))\n"
   ]
  },
  {
   "cell_type": "markdown",
   "metadata": {},
   "source": [
    "Let's plot the firt 2 components and annotate the location of each center:"
   ]
  },
  {
   "cell_type": "code",
   "execution_count": 15,
   "metadata": {},
   "outputs": [
    {
     "data": {
      "image/png": "[encoded data removed]",
      "text/plain": [
       "<Figure size 1152x720 with 1 Axes>"
      ]
     },
     "metadata": {
      "needs_background": "light"
     },
     "output_type": "display_data"
    }
   ],
   "source": [
    "import matplotlib.pyplot as plt\n",
    "import seaborn as sns\n",
    "rndperm = np.random.permutation(df.shape[0])\n",
    "\n",
    "plt.figure(figsize=(16,10))\n",
    "sns.scatterplot(\n",
    "    x=\"pca-one\", y=\"pca-two\",\n",
    "    hue=\"labels\",\n",
    "    palette=sns.color_palette(\"husl\", 2),\n",
    "    data=df.loc[rndperm,:],\n",
    "    legend=\"full\",\n",
    "    alpha=0.3\n",
    ")\n",
    "# Annotate center of each cluster\n",
    "for i in [1,7]:\n",
    "    plt.annotate(i, \n",
    "                     df.loc[df['labels']==i,['pca-one','pca-two']].mean(),\n",
    "                     horizontalalignment='center',\n",
    "                     verticalalignment='center',\n",
    "                     size=20, weight='bold') "
   ]
  },
  {
   "cell_type": "markdown",
   "metadata": {},
   "source": [
    "Let's see if the points from the test set behave the way we expect to:"
   ]
  },
  {
   "cell_type": "code",
   "execution_count": 16,
   "metadata": {},
   "outputs": [
    {
     "data": {
      "image/png": "[encoded data removed]",
      "text/plain": [
       "<Figure size 1152x720 with 1 Axes>"
      ]
     },
     "metadata": {
      "needs_background": "light"
     },
     "output_type": "display_data"
    }
   ],
   "source": [
    "import matplotlib.pyplot as plt\n",
    "import seaborn as sns\n",
    "rndperm = np.random.permutation(df_p.shape[0])\n",
    "\n",
    "plt.figure(figsize=(16,10))\n",
    "sns.scatterplot(\n",
    "    x=\"pca-one\", y=\"pca-two\",\n",
    "    hue=\"labels\",\n",
    "    palette=sns.color_palette(\"husl\", 2),\n",
    "    data=df_p.loc[rndperm,:],\n",
    "    legend=\"full\",\n",
    "    alpha=0.3\n",
    ")\n",
    "# Annotate center of each cluster\n",
    "for i in [1,7]:\n",
    "    plt.annotate(i, \n",
    "                     df.loc[df['labels']==i,['pca-one','pca-two']].mean(),\n",
    "                     horizontalalignment='center',\n",
    "                     verticalalignment='center',\n",
    "                     size=20, weight='bold') "
   ]
  },
  {
   "cell_type": "markdown",
   "metadata": {},
   "source": [
    "Simulating a scenario where we only have images from one category:"
   ]
  },
  {
   "cell_type": "code",
   "execution_count": 17,
   "metadata": {},
   "outputs": [
    {
     "data": {
      "image/png": "[encoded data removed]",
      "text/plain": [
       "<Figure size 1152x720 with 1 Axes>"
      ]
     },
     "metadata": {
      "needs_background": "light"
     },
     "output_type": "display_data"
    }
   ],
   "source": [
    "import matplotlib.pyplot as plt\n",
    "import seaborn as sns\n",
    "rndperm = np.random.permutation(df_p.shape[0])\n",
    "\n",
    "plt.figure(figsize=(16,10))\n",
    "plt.xlim([-0.5, 0.5])\n",
    "plt.ylim([-0.4, 0.5])\n",
    "sns.scatterplot(\n",
    "    x=\"pca-one\", y=\"pca-two\",\n",
    "    hue=\"labels\",\n",
    "    palette=sns.color_palette(\"husl\", 1),\n",
    "    data=df_p[df_p['labels']==1],\n",
    "    legend=\"full\",\n",
    "    alpha=0.3\n",
    ")\n",
    "# Annotate center of each cluster\n",
    "for i in [1,7]:\n",
    "    plt.annotate(i, \n",
    "                     df.loc[df['labels']==i,['pca-one','pca-two']].mean(),\n",
    "                     horizontalalignment='center',\n",
    "                     verticalalignment='center',\n",
    "                     size=20, weight='bold') "
   ]
  },
  {
   "cell_type": "markdown",
   "metadata": {},
   "source": [
    "# Production Stage"
   ]
  },
  {
   "cell_type": "markdown",
   "metadata": {},
   "source": [
    "## Case 1 - Batch with only one group"
   ]
  },
  {
   "cell_type": "markdown",
   "metadata": {},
   "source": [
    "Calculating the coordinates for centers of both groups `c1` and `c7`"
   ]
  },
  {
   "cell_type": "code",
   "execution_count": 29,
   "metadata": {},
   "outputs": [
    {
     "data": {
      "text/plain": [
       "torch.Size([1024])"
      ]
     },
     "execution_count": 29,
     "metadata": {},
     "output_type": "execute_result"
    }
   ],
   "source": [
    "features_1 = torch.stack([x for i,x in enumerate(features) if labels[i]==1 ])\n",
    "c1 = torch.mean(features_1,0)\n",
    "c1.size()"
   ]
  },
  {
   "cell_type": "code",
   "execution_count": 30,
   "metadata": {},
   "outputs": [
    {
     "data": {
      "text/plain": [
       "torch.Size([1024])"
      ]
     },
     "execution_count": 30,
     "metadata": {},
     "output_type": "execute_result"
    }
   ],
   "source": [
    "features_7 = torch.stack([x for i,x in enumerate(features) if labels[i]==7 ])\n",
    "c7 = torch.mean(features_7,0)\n",
    "c7.size()"
   ]
  },
  {
   "cell_type": "markdown",
   "metadata": {},
   "source": [
    "Calculating the distance (dot product) between each embedding in the test set and centers of both categories:"
   ]
  },
  {
   "cell_type": "code",
   "execution_count": 33,
   "metadata": {},
   "outputs": [
    {
     "data": {
      "text/plain": [
       "[0.17042507231235504,\n",
       " 0.2129431962966919,\n",
       " 0.22449064254760742,\n",
       " 0.19598861038684845,\n",
       " 0.13641376793384552,\n",
       " 0.24507813155651093,\n",
       " 0.27109554409980774,\n",
       " 0.29645904898643494,\n",
       " 0.25392580032348633,\n",
       " 0.2755275368690491,\n",
       " 0.2529647946357727,\n",
       " 0.24741485714912415,\n",
       " 0.30369818210601807,\n",
       " 0.28904691338539124,\n",
       " 0.307974636554718,\n",
       " 0.19186410307884216,\n",
       " 0.17146170139312744,\n",
       " 0.17493374645709991,\n",
       " 0.2829854488372803,\n",
       " 0.32672762870788574,\n",
       " 0.11368265002965927,\n",
       " 0.21547073125839233,\n",
       " 0.2925056219100952,\n",
       " 0.29045313596725464,\n",
       " 0.20046353340148926,\n",
       " 0.18512819707393646,\n",
       " 0.2699890732765198,\n",
       " 0.16407379508018494,\n",
       " 0.21265588700771332,\n",
       " 0.27566927671432495,\n",
       " 0.1452510952949524,\n",
       " 0.23555594682693481,\n",
       " 0.255568265914917,\n",
       " 0.2698711156845093,\n",
       " 0.1794980764389038,\n",
       " 0.28451433777809143,\n",
       " 0.25903356075286865,\n",
       " 0.2590813934803009,\n",
       " 0.27680379152297974,\n",
       " 0.23209208250045776,\n",
       " 0.15620943903923035,\n",
       " 0.29912906885147095,\n",
       " 0.2751310169696808,\n",
       " 0.1759127378463745,\n",
       " 0.14074420928955078,\n",
       " 0.16620147228240967,\n",
       " 0.19149073958396912,\n",
       " 0.2682170867919922,\n",
       " 0.2545112371444702,\n",
       " 0.23811426758766174,\n",
       " 0.20682364702224731,\n",
       " 0.1562507599592209,\n",
       " 0.13564585149288177,\n",
       " 0.20600581169128418,\n",
       " 0.18153735995292664,\n",
       " 0.23118150234222412,\n",
       " 0.2568008303642273,\n",
       " 0.1730860322713852,\n",
       " 0.22706933319568634,\n",
       " 0.16790351271629333,\n",
       " 0.13593801856040955,\n",
       " 0.14930060505867004,\n",
       " 0.12086929380893707,\n",
       " 0.1558268666267395,\n",
       " 0.2040565013885498,\n",
       " 0.1866334229707718,\n",
       " 0.24202394485473633,\n",
       " 0.19463710486888885,\n",
       " 0.16438385844230652,\n",
       " 0.23752978444099426,\n",
       " 0.12870103120803833,\n",
       " 0.22103221714496613,\n",
       " 0.3090434670448303,\n",
       " 0.22811785340309143,\n",
       " 0.26465392112731934,\n",
       " 0.23363372683525085,\n",
       " 0.26149076223373413,\n",
       " 0.12891879677772522,\n",
       " 0.2005191147327423,\n",
       " 0.1677391082048416,\n",
       " 0.25015366077423096,\n",
       " 0.24989023804664612,\n",
       " 0.2700691819190979,\n",
       " 0.17063617706298828,\n",
       " 0.20620110630989075,\n",
       " 0.2751988172531128,\n",
       " 0.23041239380836487,\n",
       " 0.2645632028579712,\n",
       " 0.10403759777545929,\n",
       " 0.2725805938243866,\n",
       " 0.1370856910943985,\n",
       " 0.2774096727371216,\n",
       " 0.23298528790473938,\n",
       " 0.21202242374420166,\n",
       " 0.1517394483089447,\n",
       " 0.18997445702552795,\n",
       " 0.22091403603553772,\n",
       " 0.16609956324100494,\n",
       " 0.1554875671863556,\n",
       " 0.23848000168800354,\n",
       " 0.17552785575389862,\n",
       " 0.15791472792625427,\n",
       " 0.27757728099823,\n",
       " 0.225615456700325,\n",
       " 0.20463567972183228,\n",
       " 0.2767270803451538,\n",
       " 0.23037464916706085,\n",
       " 0.16399499773979187,\n",
       " 0.26357442140579224,\n",
       " 0.1767444908618927,\n",
       " 0.2506421208381653,\n",
       " 0.1149633377790451,\n",
       " 0.1666380763053894,\n",
       " 0.2002592384815216,\n",
       " 0.1795734018087387,\n",
       " 0.3092859387397766,\n",
       " 0.2745431065559387,\n",
       " 0.25388768315315247,\n",
       " 0.1789943277835846,\n",
       " 0.24116039276123047,\n",
       " 0.18725010752677917,\n",
       " 0.23981575667858124,\n",
       " 0.3034476637840271,\n",
       " 0.20554481446743011,\n",
       " 0.20905634760856628,\n",
       " 0.2114499807357788,\n",
       " 0.21133464574813843,\n",
       " 0.16980136930942535,\n",
       " 0.19184556603431702,\n",
       " 0.28433704376220703,\n",
       " 0.17446021735668182,\n",
       " 0.22538572549819946,\n",
       " 0.16774845123291016,\n",
       " 0.22497804462909698,\n",
       " 0.2069157063961029,\n",
       " 0.19291052222251892,\n",
       " 0.1986216902732849,\n",
       " 0.24589179456233978,\n",
       " 0.24016639590263367,\n",
       " 0.23478074371814728,\n",
       " 0.2957342267036438,\n",
       " 0.15203797817230225,\n",
       " 0.2577596604824066,\n",
       " 0.17826014757156372,\n",
       " 0.2581433057785034,\n",
       " 0.18801850080490112,\n",
       " 0.2228139489889145,\n",
       " 0.1931731104850769,\n",
       " 0.12611699104309082,\n",
       " 0.252108633518219,\n",
       " 0.22529271245002747,\n",
       " 0.1469137966632843,\n",
       " 0.24155640602111816,\n",
       " 0.1425885260105133,\n",
       " 0.2835266590118408,\n",
       " 0.19127526879310608,\n",
       " 0.24385544657707214,\n",
       " 0.1312030702829361,\n",
       " 0.1672983467578888,\n",
       " 0.1528814285993576,\n",
       " 0.25489699840545654,\n",
       " 0.2253776639699936,\n",
       " 0.2583319842815399,\n",
       " 0.2365913689136505,\n",
       " 0.1391977071762085,\n",
       " 0.30961737036705017,\n",
       " 0.10291555523872375,\n",
       " 0.2846381664276123,\n",
       " 0.15732187032699585,\n",
       " 0.14131294190883636,\n",
       " 0.17224368453025818,\n",
       " 0.29339998960494995,\n",
       " 0.19092446565628052,\n",
       " 0.16870933771133423,\n",
       " 0.16228356957435608,\n",
       " 0.22643250226974487,\n",
       " 0.17561863362789154,\n",
       " 0.2665846347808838,\n",
       " 0.2795065939426422,\n",
       " 0.1681341677904129,\n",
       " 0.2134687602519989,\n",
       " 0.15226414799690247,\n",
       " 0.18504002690315247,\n",
       " 0.2969973683357239,\n",
       " 0.28308993577957153,\n",
       " 0.24084657430648804,\n",
       " 0.26792633533477783,\n",
       " 0.22184406220912933,\n",
       " 0.156157985329628,\n",
       " 0.17727798223495483,\n",
       " 0.1711317002773285,\n",
       " 0.2873497009277344,\n",
       " 0.17586562037467957,\n",
       " 0.23146575689315796,\n",
       " 0.25866806507110596,\n",
       " 0.24428725242614746,\n",
       " 0.16521243751049042,\n",
       " 0.15281108021736145,\n",
       " 0.17795267701148987,\n",
       " 0.15119044482707977,\n",
       " 0.1949651837348938,\n",
       " 0.16403202712535858,\n",
       " 0.097336545586586,\n",
       " 0.1327650547027588,\n",
       " 0.17585736513137817,\n",
       " 0.21336035430431366,\n",
       " 0.2190202921628952,\n",
       " 0.25433051586151123,\n",
       " 0.2512459456920624,\n",
       " 0.25154057145118713,\n",
       " 0.17487502098083496,\n",
       " 0.1454976201057434,\n",
       " 0.25836503505706787,\n",
       " 0.2803765535354614,\n",
       " 0.10643802583217621,\n",
       " 0.18333925306797028,\n",
       " 0.1319909691810608,\n",
       " 0.30056384205818176,\n",
       " 0.2662782669067383,\n",
       " 0.2634086012840271,\n",
       " 0.15557073056697845,\n",
       " 0.17692501842975616,\n",
       " 0.2667770981788635,\n",
       " 0.11212720721960068,\n",
       " 0.15395162999629974,\n",
       " 0.27502381801605225,\n",
       " 0.143021360039711,\n",
       " 0.1622137725353241,\n",
       " 0.30000990629196167,\n",
       " 0.2545078992843628,\n",
       " 0.2546412944793701,\n",
       " 0.22074463963508606,\n",
       " 0.1838015913963318,\n",
       " 0.22816073894500732,\n",
       " 0.30773594975471497,\n",
       " 0.287695050239563,\n",
       " 0.30327096581459045,\n",
       " 0.30848532915115356,\n",
       " 0.13209010660648346,\n",
       " 0.24164044857025146,\n",
       " 0.2844259440898895,\n",
       " 0.25282222032546997,\n",
       " 0.20242710411548615,\n",
       " 0.2560637593269348,\n",
       " 0.2614412307739258,\n",
       " 0.21090668439865112,\n",
       " 0.22051095962524414,\n",
       " 0.24580277502536774,\n",
       " 0.26278138160705566,\n",
       " 0.2763686776161194,\n",
       " 0.29014021158218384,\n",
       " 0.1990397423505783,\n",
       " 0.16032209992408752,\n",
       " 0.23429399728775024,\n",
       " 0.27728965878486633,\n",
       " 0.2674035131931305,\n",
       " 0.23297357559204102,\n",
       " 0.1846315860748291,\n",
       " 0.27144479751586914,\n",
       " 0.20719972252845764,\n",
       " 0.15589764714241028,\n",
       " 0.25803959369659424,\n",
       " 0.1440969705581665,\n",
       " 0.20407113432884216,\n",
       " 0.1854977309703827,\n",
       " 0.29465824365615845,\n",
       " 0.29509371519088745,\n",
       " 0.2783645987510681,\n",
       " 0.2280230075120926,\n",
       " 0.31895482540130615,\n",
       " 0.181232288479805,\n",
       " 0.25291112065315247,\n",
       " 0.1957380622625351,\n",
       " 0.22544138133525848,\n",
       " 0.19077163934707642,\n",
       " 0.28793108463287354,\n",
       " 0.28762534260749817,\n",
       " 0.19824999570846558,\n",
       " 0.23927152156829834,\n",
       " 0.22719815373420715,\n",
       " 0.19493494927883148,\n",
       " 0.24581608176231384,\n",
       " 0.18712863326072693,\n",
       " 0.27464166283607483,\n",
       " 0.25056564807891846,\n",
       " 0.17331014573574066,\n",
       " 0.28728827834129333,\n",
       " 0.20868779718875885,\n",
       " 0.26580554246902466,\n",
       " 0.25812244415283203,\n",
       " 0.21004848182201385,\n",
       " 0.182469442486763,\n",
       " 0.19533467292785645,\n",
       " 0.22896337509155273,\n",
       " 0.2173631638288498,\n",
       " 0.29143261909484863,\n",
       " 0.11522828042507172,\n",
       " 0.18126855790615082,\n",
       " 0.13586455583572388,\n",
       " 0.18935689330101013,\n",
       " 0.2922798991203308,\n",
       " 0.1917833387851715,\n",
       " 0.17700839042663574,\n",
       " 0.18024784326553345,\n",
       " 0.30736929178237915,\n",
       " 0.12118236720561981,\n",
       " 0.2370467633008957,\n",
       " 0.22167977690696716,\n",
       " 0.2914608120918274,\n",
       " 0.2184675931930542,\n",
       " 0.2563075125217438,\n",
       " 0.258169949054718,\n",
       " 0.12660890817642212,\n",
       " 0.18403910100460052,\n",
       " 0.17896366119384766,\n",
       " 0.23234716057777405,\n",
       " 0.28194501996040344,\n",
       " 0.1981901228427887,\n",
       " 0.23599223792552948,\n",
       " 0.2033698707818985,\n",
       " 0.21428686380386353,\n",
       " 0.18514582514762878,\n",
       " 0.2058490812778473,\n",
       " 0.2715592682361603,\n",
       " 0.1922089010477066,\n",
       " 0.25665032863616943,\n",
       " 0.18385906517505646,\n",
       " 0.22854101657867432,\n",
       " 0.3077555298805237,\n",
       " 0.23607861995697021,\n",
       " 0.2341192066669464,\n",
       " 0.13791383802890778,\n",
       " 0.15435545146465302,\n",
       " 0.20958635210990906,\n",
       " 0.19518691301345825,\n",
       " 0.18953180313110352,\n",
       " 0.23883257806301117,\n",
       " 0.16658039391040802,\n",
       " 0.30081790685653687,\n",
       " 0.13488534092903137,\n",
       " 0.2602478861808777,\n",
       " 0.239447221159935,\n",
       " 0.24936391413211823,\n",
       " 0.1459711194038391,\n",
       " 0.3049899637699127,\n",
       " 0.22512660920619965,\n",
       " 0.164389967918396,\n",
       " 0.19048768281936646,\n",
       " 0.18172073364257812,\n",
       " 0.2321733832359314,\n",
       " 0.2838488817214966,\n",
       " 0.1666344404220581,\n",
       " 0.2387949526309967,\n",
       " 0.18687883019447327,\n",
       " 0.21035319566726685,\n",
       " 0.17176690697669983,\n",
       " 0.2724904417991638,\n",
       " 0.2110549807548523,\n",
       " 0.2511356472969055,\n",
       " 0.18484088778495789,\n",
       " 0.30188870429992676,\n",
       " 0.19169414043426514,\n",
       " 0.2544094920158386,\n",
       " 0.2707959711551666,\n",
       " 0.22528213262557983,\n",
       " 0.3122745156288147,\n",
       " 0.23773784935474396,\n",
       " 0.1510380208492279,\n",
       " 0.1956605166196823,\n",
       " 0.1838645040988922,\n",
       " 0.20906387269496918,\n",
       " 0.1287197768688202,\n",
       " 0.2682535946369171,\n",
       " 0.29033705592155457,\n",
       " 0.12948091328144073,\n",
       " 0.3043266534805298,\n",
       " 0.18842658400535583,\n",
       " 0.2244790494441986,\n",
       " 0.22008299827575684,\n",
       " 0.15697655081748962,\n",
       " 0.2558547556400299,\n",
       " 0.3289773166179657,\n",
       " 0.31243717670440674,\n",
       " 0.2491043508052826,\n",
       " 0.13447879254817963,\n",
       " 0.2824527621269226,\n",
       " 0.18257677555084229,\n",
       " 0.27614784240722656,\n",
       " 0.1450701355934143,\n",
       " 0.18818560242652893,\n",
       " 0.16800455749034882,\n",
       " 0.28485071659088135,\n",
       " 0.3031809329986572,\n",
       " 0.25310319662094116,\n",
       " 0.23372550308704376,\n",
       " 0.17450129985809326,\n",
       " 0.2750088572502136,\n",
       " 0.2347767949104309,\n",
       " 0.29505062103271484,\n",
       " 0.28205764293670654,\n",
       " 0.28095686435699463,\n",
       " 0.16176080703735352,\n",
       " 0.3097383379936218,\n",
       " 0.19348594546318054,\n",
       " 0.2313893735408783,\n",
       " 0.18631747364997864,\n",
       " 0.27013397216796875,\n",
       " 0.2110154777765274,\n",
       " 0.29549649357795715,\n",
       " 0.24016165733337402,\n",
       " 0.18563786149024963,\n",
       " 0.1481713354587555,\n",
       " 0.16284728050231934,\n",
       " 0.27700069546699524,\n",
       " 0.180185467004776,\n",
       " 0.2060570865869522,\n",
       " 0.15982738137245178,\n",
       " 0.28260016441345215,\n",
       " 0.1977168321609497,\n",
       " 0.1795753538608551,\n",
       " 0.21259838342666626,\n",
       " 0.2893404960632324,\n",
       " 0.2860625386238098,\n",
       " 0.2654716670513153,\n",
       " 0.19691026210784912,\n",
       " 0.2621777653694153,\n",
       " 0.21414339542388916,\n",
       " 0.2793443202972412,\n",
       " 0.3021594285964966,\n",
       " 0.2890108823776245,\n",
       " 0.2527969181537628,\n",
       " 0.1905331313610077,\n",
       " 0.3025623857975006,\n",
       " 0.22268101572990417,\n",
       " 0.2843041718006134,\n",
       " 0.15967994928359985,\n",
       " 0.16759249567985535,\n",
       " 0.1767728626728058,\n",
       " 0.1937452107667923,\n",
       " 0.177432119846344,\n",
       " 0.30989012122154236,\n",
       " 0.14415420591831207,\n",
       " 0.2547532320022583,\n",
       " 0.16523268818855286,\n",
       " 0.2439073920249939,\n",
       " 0.3022175133228302,\n",
       " 0.3069337010383606,\n",
       " 0.2147456407546997,\n",
       " 0.12693247199058533,\n",
       " 0.11860902607440948,\n",
       " 0.2263791859149933,\n",
       " 0.2890872359275818,\n",
       " 0.30373379588127136,\n",
       " 0.07934606820344925,\n",
       " 0.1629144251346588,\n",
       " 0.12296202778816223,\n",
       " 0.18210628628730774,\n",
       " 0.2111584097146988,\n",
       " 0.2016066014766693,\n",
       " 0.10251270234584808,\n",
       " 0.11023516952991486,\n",
       " 0.17425671219825745,\n",
       " 0.16208598017692566,\n",
       " 0.16798746585845947,\n",
       " 0.25893938541412354,\n",
       " 0.25147655606269836,\n",
       " 0.1774037629365921,\n",
       " 0.18321660161018372,\n",
       " 0.19771350920200348,\n",
       " 0.2086450457572937,\n",
       " 0.16634130477905273,\n",
       " 0.24997954070568085,\n",
       " 0.23328213393688202,\n",
       " 0.15723231434822083,\n",
       " 0.22612448036670685,\n",
       " 0.28788772225379944,\n",
       " 0.2267061322927475,\n",
       " 0.2912839353084564,\n",
       " 0.19814161956310272,\n",
       " 0.30028867721557617,\n",
       " 0.2205875962972641,\n",
       " 0.19502034783363342,\n",
       " 0.23861148953437805,\n",
       " 0.13653762638568878,\n",
       " 0.2684573531150818,\n",
       " 0.2671414315700531,\n",
       " 0.18000392615795135,\n",
       " 0.30347636342048645,\n",
       " 0.24849210679531097,\n",
       " 0.24332347512245178,\n",
       " 0.2907210886478424,\n",
       " 0.16550546884536743,\n",
       " 0.24500524997711182,\n",
       " 0.27057719230651855,\n",
       " 0.23313798010349274,\n",
       " 0.27543002367019653,\n",
       " 0.18483500182628632,\n",
       " 0.28778761625289917,\n",
       " 0.24483050405979156,\n",
       " 0.2551608681678772,\n",
       " 0.28193026781082153,\n",
       " 0.20522689819335938,\n",
       " 0.21856144070625305,\n",
       " 0.12878382205963135,\n",
       " 0.19785350561141968,\n",
       " 0.15739908814430237,\n",
       " 0.16276247799396515,\n",
       " 0.24746344983577728,\n",
       " 0.26975172758102417,\n",
       " 0.18383066356182098,\n",
       " 0.13522572815418243,\n",
       " 0.30511540174484253,\n",
       " 0.2620743215084076,\n",
       " 0.21638762950897217,\n",
       " 0.20225341618061066,\n",
       " 0.2705056965351105,\n",
       " 0.31662923097610474,\n",
       " 0.1251404881477356,\n",
       " 0.23051775991916656,\n",
       " 0.2597038745880127,\n",
       " 0.13837715983390808,\n",
       " 0.19954027235507965,\n",
       " 0.2119160145521164,\n",
       " 0.2102544903755188,\n",
       " 0.20795845985412598,\n",
       " 0.24071621894836426,\n",
       " 0.16455107927322388,\n",
       " 0.2683413624763489,\n",
       " 0.16672785580158234,\n",
       " 0.18409723043441772,\n",
       " 0.30536770820617676,\n",
       " 0.20293277502059937,\n",
       " 0.2750293016433716,\n",
       " 0.16876499354839325,\n",
       " 0.1726861596107483,\n",
       " 0.31051063537597656,\n",
       " 0.2949110269546509,\n",
       " 0.256385862827301,\n",
       " 0.2580040991306305,\n",
       " 0.22875653207302094,\n",
       " 0.24340182542800903,\n",
       " 0.1672048270702362,\n",
       " 0.12386750429868698,\n",
       " 0.16469821333885193,\n",
       " 0.19626426696777344,\n",
       " 0.21589384973049164,\n",
       " 0.20418068766593933,\n",
       " 0.26088473200798035,\n",
       " 0.308248907327652,\n",
       " 0.193418949842453,\n",
       " 0.21333768963813782,\n",
       " 0.2688462734222412,\n",
       " 0.23226267099380493,\n",
       " 0.1815510094165802,\n",
       " 0.172798752784729,\n",
       " 0.17620478570461273,\n",
       " 0.16945627331733704,\n",
       " 0.1843845248222351,\n",
       " 0.21156439185142517,\n",
       " 0.23362532258033752,\n",
       " 0.17158755660057068,\n",
       " 0.2950676381587982,\n",
       " 0.15014900267124176,\n",
       " 0.18070265650749207,\n",
       " 0.2962501049041748,\n",
       " 0.24385443329811096,\n",
       " 0.1770525574684143,\n",
       " 0.12927937507629395,\n",
       " 0.22992444038391113,\n",
       " 0.2969605326652527,\n",
       " 0.28434455394744873,\n",
       " 0.1853887438774109,\n",
       " 0.2525857090950012,\n",
       " 0.24742701649665833,\n",
       " 0.24204492568969727,\n",
       " 0.287148654460907,\n",
       " 0.1980918049812317,\n",
       " 0.19558990001678467,\n",
       " 0.1624029278755188,\n",
       " 0.11167038232088089,\n",
       " 0.17931753396987915,\n",
       " 0.16403821110725403,\n",
       " 0.20901480317115784,\n",
       " 0.26198890805244446,\n",
       " 0.2709031105041504,\n",
       " 0.3151172995567322,\n",
       " 0.22226692736148834,\n",
       " 0.22707253694534302,\n",
       " 0.3024989068508148,\n",
       " 0.2004813551902771,\n",
       " 0.16147050261497498,\n",
       " 0.19868221879005432,\n",
       " 0.14711716771125793,\n",
       " 0.16293886303901672,\n",
       " 0.18011903762817383,\n",
       " 0.2789726257324219,\n",
       " 0.2512980103492737,\n",
       " 0.12810593843460083,\n",
       " 0.2926650047302246,\n",
       " 0.2535445988178253,\n",
       " 0.2940473258495331,\n",
       " 0.13354380428791046,\n",
       " 0.2113850712776184,\n",
       " 0.1984582245349884,\n",
       " 0.11860272288322449,\n",
       " 0.235611692070961,\n",
       " 0.14286267757415771,\n",
       " 0.2211630940437317,\n",
       " 0.13350407779216766,\n",
       " 0.29415833950042725,\n",
       " 0.1755048781633377,\n",
       " 0.2253749817609787,\n",
       " 0.29448238015174866,\n",
       " 0.265129417181015,\n",
       " 0.28095752000808716,\n",
       " 0.3200463652610779,\n",
       " 0.1596415638923645,\n",
       " 0.2135605365037918,\n",
       " 0.1740325391292572,\n",
       " 0.17927347123622894,\n",
       " 0.19641046226024628,\n",
       " 0.22996683418750763,\n",
       " 0.28717654943466187,\n",
       " 0.24759355187416077,\n",
       " 0.09767218679189682,\n",
       " 0.1914563775062561,\n",
       " 0.272289901971817,\n",
       " 0.2931157648563385,\n",
       " 0.14417621493339539,\n",
       " 0.2019493281841278,\n",
       " 0.12920565903186798,\n",
       " 0.13577723503112793,\n",
       " 0.09393969178199768,\n",
       " 0.1453029364347458,\n",
       " 0.15406550467014313,\n",
       " 0.22230690717697144,\n",
       " 0.12836256623268127,\n",
       " 0.1590680480003357,\n",
       " 0.2517186999320984,\n",
       " 0.22365829348564148,\n",
       " 0.25888490676879883,\n",
       " 0.19210070371627808,\n",
       " 0.26703742146492004,\n",
       " 0.17432019114494324,\n",
       " 0.1639961451292038,\n",
       " 0.2645362913608551,\n",
       " 0.23817771673202515,\n",
       " 0.3171463906764984,\n",
       " 0.1942889243364334,\n",
       " 0.18053947389125824,\n",
       " 0.1774461269378662,\n",
       " 0.21145108342170715,\n",
       " 0.2175467312335968,\n",
       " 0.2930506467819214,\n",
       " 0.19654187560081482,\n",
       " 0.22517767548561096,\n",
       " 0.16521796584129333,\n",
       " 0.1854131817817688,\n",
       " 0.17524680495262146,\n",
       " 0.24485084414482117,\n",
       " 0.21780046820640564,\n",
       " 0.18143460154533386,\n",
       " 0.290449857711792,\n",
       " 0.2021428793668747,\n",
       " 0.11233356595039368,\n",
       " 0.19978249073028564,\n",
       " 0.30951517820358276,\n",
       " 0.1772737056016922,\n",
       " 0.28120994567871094,\n",
       " 0.27249783277511597,\n",
       " 0.20959685742855072,\n",
       " 0.13813337683677673,\n",
       " 0.26727384328842163,\n",
       " 0.321499228477478,\n",
       " 0.22642354667186737,\n",
       " 0.2558667063713074,\n",
       " 0.23605120182037354,\n",
       " 0.24557359516620636,\n",
       " 0.26492249965667725,\n",
       " 0.1765788346529007,\n",
       " 0.24497956037521362,\n",
       " 0.14203201234340668,\n",
       " 0.32119274139404297,\n",
       " 0.16994673013687134,\n",
       " 0.23019160330295563,\n",
       " 0.2819368839263916,\n",
       " 0.19749218225479126,\n",
       " 0.23286138474941254,\n",
       " 0.20641914010047913,\n",
       " 0.187628835439682,\n",
       " 0.24322138726711273,\n",
       " 0.1705656200647354,\n",
       " 0.16024455428123474,\n",
       " 0.2940567135810852,\n",
       " 0.12838351726531982,\n",
       " 0.2152322232723236,\n",
       " 0.2557911276817322,\n",
       " 0.18487408757209778,\n",
       " 0.2865695357322693,\n",
       " 0.2399224042892456,\n",
       " 0.283855140209198,\n",
       " 0.23726098239421844,\n",
       " 0.13301047682762146,\n",
       " 0.18611007928848267,\n",
       " 0.11720629036426544,\n",
       " 0.19323360919952393,\n",
       " 0.23983925580978394,\n",
       " 0.1750088632106781,\n",
       " 0.1892242729663849,\n",
       " 0.14890187978744507,\n",
       " 0.17187033593654633,\n",
       " 0.09503708779811859,\n",
       " 0.15663251280784607,\n",
       " 0.227027028799057,\n",
       " 0.28037187457084656,\n",
       " 0.17815977334976196,\n",
       " 0.31467404961586,\n",
       " 0.20491686463356018,\n",
       " 0.16788767278194427,\n",
       " 0.13107001781463623,\n",
       " 0.28478237986564636,\n",
       " 0.131822407245636,\n",
       " 0.17796440422534943,\n",
       " 0.3276565670967102,\n",
       " 0.2595959007740021,\n",
       " 0.23110617697238922,\n",
       " 0.15809518098831177,\n",
       " 0.2712237536907196,\n",
       " 0.18223696947097778,\n",
       " 0.23930245637893677,\n",
       " 0.25464141368865967,\n",
       " 0.28505635261535645,\n",
       " 0.27653956413269043,\n",
       " 0.18271881341934204,\n",
       " 0.1822013258934021,\n",
       " 0.2576071321964264,\n",
       " 0.24099519848823547,\n",
       " 0.11346492171287537,\n",
       " 0.30077046155929565,\n",
       " 0.2564089000225067,\n",
       " 0.1671976000070572,\n",
       " 0.282598614692688,\n",
       " 0.2920090854167938,\n",
       " 0.15273836255073547,\n",
       " 0.1938439905643463,\n",
       " 0.20409558713436127,\n",
       " 0.24565386772155762,\n",
       " 0.22839784622192383,\n",
       " 0.30145183205604553,\n",
       " 0.1972821056842804,\n",
       " 0.21825262904167175,\n",
       " 0.25156301259994507,\n",
       " 0.21522077918052673,\n",
       " 0.16404056549072266,\n",
       " 0.22253218293190002,\n",
       " 0.2536923289299011,\n",
       " 0.23524999618530273,\n",
       " 0.2492896318435669,\n",
       " 0.25006571412086487,\n",
       " 0.22966177761554718,\n",
       " 0.254777193069458,\n",
       " 0.25472670793533325,\n",
       " 0.26522737741470337,\n",
       " 0.23168331384658813,\n",
       " 0.16503772139549255,\n",
       " 0.169881671667099,\n",
       " 0.3033527135848999,\n",
       " 0.1582525223493576,\n",
       " 0.23904955387115479,\n",
       " 0.15101569890975952,\n",
       " 0.222502201795578,\n",
       " 0.2733643651008606,\n",
       " 0.27273672819137573,\n",
       " 0.2613474726676941,\n",
       " 0.2690170407295227,\n",
       " 0.2743869721889496,\n",
       " 0.2557258605957031,\n",
       " 0.18197138607501984,\n",
       " 0.26746273040771484,\n",
       " 0.16645462810993195,\n",
       " 0.20141558349132538,\n",
       " 0.17947566509246826,\n",
       " 0.14284925162792206,\n",
       " 0.20391172170639038,\n",
       " 0.29057469964027405,\n",
       " 0.23518489301204681,\n",
       " 0.28833281993865967,\n",
       " 0.20192275941371918,\n",
       " 0.2373676598072052,\n",
       " 0.15916436910629272,\n",
       " 0.2612614333629608,\n",
       " 0.2877105474472046,\n",
       " 0.22553446888923645,\n",
       " 0.31413134932518005,\n",
       " 0.16691862046718597,\n",
       " 0.28730911016464233,\n",
       " 0.24444124102592468,\n",
       " 0.24043390154838562,\n",
       " 0.1876223385334015,\n",
       " 0.16588272154331207,\n",
       " 0.2695782482624054,\n",
       " 0.230044424533844,\n",
       " 0.2701764404773712,\n",
       " 0.1289457380771637,\n",
       " 0.16109274327754974,\n",
       " 0.2983177900314331,\n",
       " 0.1839044690132141,\n",
       " 0.2429351508617401,\n",
       " 0.27999192476272583,\n",
       " 0.1440250128507614,\n",
       " 0.2658159136772156,\n",
       " 0.23719386756420135,\n",
       " 0.1937882900238037,\n",
       " 0.26549866795539856,\n",
       " 0.1355312615633011,\n",
       " 0.1783590316772461,\n",
       " 0.29836195707321167,\n",
       " 0.24114853143692017,\n",
       " 0.17957055568695068,\n",
       " 0.25158578157424927,\n",
       " 0.08154955506324768,\n",
       " 0.2367459088563919,\n",
       " 0.31329241394996643,\n",
       " 0.17368802428245544,\n",
       " 0.21427762508392334,\n",
       " 0.15285956859588623,\n",
       " 0.2747507393360138,\n",
       " 0.1585717797279358,\n",
       " 0.17205087840557098,\n",
       " 0.17466330528259277,\n",
       " 0.1973555088043213,\n",
       " 0.25876086950302124,\n",
       " 0.16759000718593597,\n",
       " 0.25677263736724854,\n",
       " 0.1801154464483261,\n",
       " 0.2917367219924927,\n",
       " 0.2950601875782013,\n",
       " 0.23311945796012878,\n",
       " 0.12114433944225311,\n",
       " 0.16967490315437317,\n",
       " 0.23204773664474487,\n",
       " 0.17773576080799103,\n",
       " 0.2602844834327698,\n",
       " 0.16957180202007294,\n",
       " 0.15606863796710968,\n",
       " 0.25727248191833496,\n",
       " 0.17410293221473694,\n",
       " 0.2064093053340912,\n",
       " 0.16122901439666748,\n",
       " 0.22630026936531067,\n",
       " 0.1962006390094757,\n",
       " 0.19992280006408691,\n",
       " 0.15437178313732147,\n",
       " 0.2576468288898468,\n",
       " 0.17990119755268097,\n",
       " 0.2091352939605713,\n",
       " 0.189120814204216,\n",
       " 0.21552979946136475,\n",
       " 0.1643502116203308,\n",
       " 0.18762940168380737,\n",
       " 0.13990703225135803,\n",
       " 0.23426297307014465,\n",
       " 0.23122116923332214,\n",
       " 0.17663408815860748,\n",
       " 0.25491994619369507,\n",
       " 0.1751493215560913,\n",
       " 0.1626254767179489,\n",
       " 0.17035649716854095,\n",
       " 0.21375080943107605,\n",
       " 0.3066043555736542,\n",
       " 0.21452870965003967,\n",
       " 0.23476558923721313,\n",
       " 0.13328036665916443,\n",
       " 0.2492351531982422,\n",
       " 0.25468283891677856,\n",
       " 0.20270836353302002,\n",
       " 0.20302033424377441,\n",
       " 0.17527613043785095,\n",
       " 0.2753581404685974,\n",
       " 0.28057965636253357,\n",
       " 0.2885216176509857,\n",
       " 0.15589147806167603,\n",
       " 0.10851092636585236,\n",
       " 0.28140199184417725,\n",
       " 0.24972712993621826,\n",
       " 0.23682934045791626,\n",
       " 0.1155085414648056,\n",
       " 0.20036309957504272,\n",
       " 0.20095285773277283,\n",
       " 0.2737535238265991,\n",
       " 0.2415112853050232,\n",
       " 0.30099937319755554,\n",
       " 0.1712646335363388,\n",
       " 0.2333013415336609,\n",
       " 0.2869839370250702,\n",
       " 0.29796087741851807,\n",
       " 0.20690739154815674,\n",
       " 0.3190148174762726,\n",
       " 0.28337448835372925,\n",
       " 0.2431420385837555,\n",
       " 0.1520506739616394,\n",
       " 0.23247233033180237,\n",
       " 0.21126261353492737,\n",
       " 0.20035108923912048,\n",
       " 0.2843242585659027,\n",
       " 0.2404475063085556,\n",
       " 0.31070300936698914,\n",
       " 0.23804667592048645,\n",
       " 0.16754281520843506,\n",
       " 0.1606854498386383,\n",
       " 0.13879340887069702,\n",
       " 0.2651557922363281,\n",
       " 0.25610852241516113,\n",
       " 0.29477155208587646,\n",
       " 0.2212924361228943,\n",
       " 0.27291572093963623,\n",
       " 0.23942145705223083,\n",
       " 0.1871972382068634,\n",
       " 0.2213609516620636,\n",
       " 0.2844689190387726,\n",
       " 0.14124193787574768,\n",
       " 0.1886337399482727,\n",
       " 0.24469788372516632,\n",
       " 0.2200341373682022,\n",
       " 0.2788376808166504,\n",
       " 0.2321888506412506,\n",
       " 0.24441246688365936,\n",
       " 0.29234984517097473,\n",
       " 0.17945200204849243,\n",
       " 0.1580471247434616,\n",
       " 0.2526639401912689,\n",
       " 0.2502143979072571,\n",
       " 0.2886562645435333,\n",
       " 0.13817670941352844,\n",
       " 0.21116594970226288,\n",
       " 0.21884329617023468,\n",
       " 0.2249944657087326,\n",
       " 0.1984136998653412,\n",
       " 0.23749734461307526,\n",
       " 0.30250677466392517,\n",
       " 0.3052254319190979,\n",
       " 0.23393432796001434,\n",
       " 0.19490405917167664,\n",
       " 0.0615006759762764,\n",
       " 0.264781653881073,\n",
       " 0.15982161462306976,\n",
       " 0.2821045219898224,\n",
       " 0.1733636111021042,\n",
       " 0.20759235322475433,\n",
       " 0.23490291833877563,\n",
       " 0.12765264511108398,\n",
       " 0.15751954913139343,\n",
       " 0.2780115604400635,\n",
       " 0.2489509880542755,\n",
       " 0.252990186214447,\n",
       " 0.1617773175239563,\n",
       " 0.17101947963237762,\n",
       " 0.17056462168693542,\n",
       " 0.3111478090286255,\n",
       " 0.15360400080680847,\n",
       " 0.26147738099098206,\n",
       " 0.14488288760185242,\n",
       " 0.21625417470932007,\n",
       " 0.12197000533342361,\n",
       " 0.15945422649383545,\n",
       " 0.19159650802612305,\n",
       " 0.20802831649780273,\n",
       " 0.19238093495368958,\n",
       " 0.19410695135593414,\n",
       " 0.2797178030014038,\n",
       " 0.1916288137435913,\n",
       " 0.22431060671806335,\n",
       " 0.20269814133644104,\n",
       " 0.2328215092420578,\n",
       " 0.12255172431468964,\n",
       " 0.28394609689712524,\n",
       " 0.2136993706226349,\n",
       " 0.2557009160518646,\n",
       " 0.1934838443994522,\n",
       " 0.20943805575370789,\n",
       " 0.27867552638053894,\n",
       " 0.26738256216049194,\n",
       " 0.14673416316509247,\n",
       " 0.143352210521698,\n",
       " 0.2786707282066345,\n",
       " 0.2593997120857239,\n",
       " 0.30786967277526855,\n",
       " 0.22276106476783752,\n",
       " 0.22727394104003906,\n",
       " 0.24953815340995789,\n",
       " 0.2693796157836914,\n",
       " 0.299593448638916,\n",
       " 0.303131639957428,\n",
       " 0.19307053089141846,\n",
       " 0.3249169588088989,\n",
       " 0.2198103815317154,\n",
       " 0.26439476013183594,\n",
       " 0.25950127840042114,\n",
       " 0.18201971054077148,\n",
       " 0.1492505520582199,\n",
       " ...]"
      ]
     },
     "execution_count": 33,
     "metadata": {},
     "output_type": "execute_result"
    }
   ],
   "source": [
    "# Distances between train set and cluster centers\n",
    "dist_1 = [torch.dot(x,c1).item() for x in features]\n",
    "dist_7 = [torch.dot(x,c7).item() for x in features]\n",
    "\n",
    "# dist_1 = [torch.dot(x,c1).item() for i,x in enumerate(features_p)]\n",
    "# dist_7 = [torch.dot(x,c7).item() for i,x in enumerate(features_p)]\n",
    "\n",
    "# Distances between test set, with only one category \"Horse\", and cluster centers\n",
    "dist_p1 = [torch.dot(x,c1).item() for i,x in enumerate(features_p) if labels_p[i]==7]\n",
    "dist_p7 = [torch.dot(x,c7).item() for i,x in enumerate(features_p) if labels_p[i]==7]\n",
    "\n",
    "# dist_p1 = [torch.dot(x,c1).item() for i,x in enumerate(features_p)]\n",
    "# dist_p7 = [torch.dot(x,c7).item() for i,x in enumerate(features_p)]\n"
   ]
  },
  {
   "cell_type": "code",
   "execution_count": 42,
   "metadata": {},
   "outputs": [
    {
     "data": {
      "image/png": "[encoded data removed]",
      "text/plain": [
       "<Figure size 432x288 with 1 Axes>"
      ]
     },
     "metadata": {
      "needs_background": "light"
     },
     "output_type": "display_data"
    }
   ],
   "source": [
    "linear_bins=np.linspace(0,1,100)\n",
    "counts_1, bins=np.histogram(dist_1,linear_bins)\n",
    "counts_7, bins=np.histogram(dist_7,linear_bins)\n",
    "\n",
    "plt.imshow(np.array([counts_1,counts_7]))\n",
    "plt.show()"
   ]
  },
  {
   "cell_type": "markdown",
   "metadata": {},
   "source": [
    "Plotting Histograms:\n",
    "    - Train set x Cluster Center 1\n",
    "    - Test set x Cluster Center 1\n",
    "    - Train set x Cluster Center 7\n",
    "    - Teste set x Cluster Center 7"
   ]
  },
  {
   "cell_type": "code",
   "execution_count": 21,
   "metadata": {},
   "outputs": [
    {
     "data": {
      "image/png": "[encoded data removed]",
      "text/plain": [
       "<Figure size 432x288 with 1 Axes>"
      ]
     },
     "metadata": {
      "needs_background": "light"
     },
     "output_type": "display_data"
    },
    {
     "data": {
      "image/png": "[encoded data removed]",
      "text/plain": [
       "<Figure size 432x288 with 1 Axes>"
      ]
     },
     "metadata": {
      "needs_background": "light"
     },
     "output_type": "display_data"
    },
    {
     "data": {
      "image/png": "[encoded data removed]",
      "text/plain": [
       "<Figure size 432x288 with 1 Axes>"
      ]
     },
     "metadata": {
      "needs_background": "light"
     },
     "output_type": "display_data"
    },
    {
     "data": {
      "image/png": "[encoded data removed]",
      "text/plain": [
       "<Figure size 432x288 with 1 Axes>"
      ]
     },
     "metadata": {
      "needs_background": "light"
     },
     "output_type": "display_data"
    }
   ],
   "source": [
    "import numpy as np\n",
    "import random\n",
    "from matplotlib import pyplot as plt\n",
    "dists = [dist_1,dist_p1,dist_7,dist_p7]\n",
    "# fixed bin size\n",
    "for dist_n in dists:\n",
    "    bins = np.arange(0, 1, 0.025) # fixed bin size\n",
    "\n",
    "    plt.xlim([min(dist_n)-0.2, max(dist_n)+0.2])\n",
    "\n",
    "    plt.plot(dist_n, bins=bins, alpha=0.5)\n",
    "    plt.title('')\n",
    "    plt.xlabel('variable X (bin size = 5)')\n",
    "    plt.ylabel('count')\n",
    "\n",
    "    plt.show()"
   ]
  },
  {
   "cell_type": "code",
   "execution_count": null,
   "metadata": {},
   "outputs": [],
   "source": []
  }
 ],
 "metadata": {
  "kernelspec": {
   "display_name": "whylogs-dev",
   "language": "python",
   "name": "whylogs-dev"
  },
  "language_info": {
   "codemirror_mode": {
    "name": "ipython",
    "version": 3
   },
   "file_extension": ".py",
   "mimetype": "text/x-python",
   "name": "python",
   "nbconvert_exporter": "python",
   "pygments_lexer": "ipython3",
   "version": "3.8.5"
  }
 },
 "nbformat": 4,
 "nbformat_minor": 4
}

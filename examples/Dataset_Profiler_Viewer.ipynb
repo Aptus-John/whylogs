{
 "cells": [
  {
   "cell_type": "markdown",
   "id": "49e94c58",
   "metadata": {},
   "source": [
    "# Dataset Profiler Viewer"
   ]
  },
  {
   "cell_type": "markdown",
   "id": "dddac65e",
   "metadata": {},
   "source": [
    "Summarize large datasets in a easy to navigate and shareable view."
   ]
  },
  {
   "cell_type": "code",
   "execution_count": 1,
   "id": "b558e5e2",
   "metadata": {},
   "outputs": [],
   "source": [
    "from whylogs import get_or_create_session\n",
    "from whylogs.core import DatasetProfile\n",
    "from whylogs.viz import profile_viewer\n",
    "\n",
    "import datetime"
   ]
  },
  {
   "cell_type": "code",
   "execution_count": 2,
   "id": "d5dda985",
   "metadata": {},
   "outputs": [],
   "source": [
    "import numpy as np"
   ]
  },
  {
   "cell_type": "code",
   "execution_count": 3,
   "id": "8a5ecdd1",
   "metadata": {},
   "outputs": [],
   "source": [
    "session = get_or_create_session()\n",
    "with session.logger(\"mytestytest\",dataset_timestamp=datetime.datetime(2021, 6, 2)) as logger:\n",
    "    for _ in range(10000):\n",
    "        logger.log({\"test\": np.random.randint(0,50)})\n",
    "    profile=logger.profile"
   ]
  },
  {
   "cell_type": "markdown",
   "id": "1dbe6c2f",
   "metadata": {},
   "source": [
    "By calling `profiler_viewer`, it will generate a selfcontained html file with a summary of your profiled dataset.\n",
    "You can pass an argument for the specific path, otherwise it will save it in your OS temporary folder."
   ]
  },
  {
   "cell_type": "code",
   "execution_count": 4,
   "id": "85d51ef8",
   "metadata": {},
   "outputs": [
    {
     "data": {
      "text/plain": [
       "'/var/folders/pr/f715zv8x17b1v5vwydgv2gq40000gq/T/tmp75av6vb6.html'"
      ]
     },
     "execution_count": 4,
     "metadata": {},
     "output_type": "execute_result"
    }
   ],
   "source": [
    "profile_viewer(profiles=[profile])"
   ]
  }
 ],
 "metadata": {
  "kernelspec": {
   "display_name": "whylogs-dev",
   "language": "python",
   "name": "whylogs-dev"
  },
  "language_info": {
   "codemirror_mode": {
    "name": "ipython",
    "version": 3
   },
   "file_extension": ".py",
   "mimetype": "text/x-python",
   "name": "python",
   "nbconvert_exporter": "python",
   "pygments_lexer": "ipython3",
   "version": "3.8.5"
  }
 },
 "nbformat": 4,
 "nbformat_minor": 5
}

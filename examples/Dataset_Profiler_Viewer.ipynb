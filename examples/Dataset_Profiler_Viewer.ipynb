{
 "cells": [
  {
   "cell_type": "markdown",
   "id": "6f960a2d",
   "metadata": {},
   "source": [
    "# Dataset Profiler Viewer"
   ]
  },
  {
   "cell_type": "markdown",
   "id": "2572c8a5",
   "metadata": {},
   "source": [
    "Summarize large datasets in a easy to navigate and shareable view."
   ]
  },
  {
   "cell_type": "code",
   "execution_count": 1,
   "id": "b558e5e2",
   "metadata": {},
   "outputs": [],
   "source": [
    "from whylogs import get_or_create_session\n",
    "from whylogs.core import DatasetProfile\n",
    "from whylogs.viz import profile_viewer\n",
    "\n",
    "\n",
    "import numpy as np\n",
    "import datetime\n",
    "\n"
   ]
  },
  {
   "cell_type": "markdown",
   "id": "7b6c9344",
   "metadata": {},
   "source": [
    "## Data Logging"
   ]
  },
  {
   "cell_type": "code",
   "execution_count": 12,
   "id": "67162203",
   "metadata": {},
   "outputs": [],
   "source": [
    "from collections import OrderedDict\n",
    "from faker import Faker\n",
    "locales = OrderedDict([\n",
    "    ('en-US', 1),\n",
    "    ('fr-FR', 2),\n",
    "    ('ja_JP', 2),\n",
    "])\n",
    "fake= Faker(locales)\n",
    "distributions = np.concatenate((np.random.normal(0.1, 0.1, 10000), np.random.normal(0.6, 0.2, 10000)))"
   ]
  },
  {
   "cell_type": "markdown",
   "id": "4b37a6da",
   "metadata": {},
   "source": [
    "### Log it"
   ]
  },
  {
   "cell_type": "code",
   "execution_count": 21,
   "id": "a37ba51f",
   "metadata": {},
   "outputs": [],
   "source": [
    "session = get_or_create_session()\n",
    "with session.logger(\"mytestytest\",dataset_timestamp=datetime.datetime(2021, 6, 2)) as logger:\n",
    "    for _ in range(10000):\n",
    "        logger.log({\"uniform_integers\": np.random.randint(0,50)})\n",
    "        logger.log({\"strings\": fake.name()})\n",
    "        logger.log({\"mixture_distribution\": np.random.choice(distribution, 1)[0]})\n",
    "        logger.log({\"nulls\": None})\n",
    "\n",
    "    profile=logger.profile"
   ]
  },
  {
   "cell_type": "markdown",
   "id": "6e05aa13",
   "metadata": {},
   "source": [
    "By calling `profiler_viewer`, it will generate a self contained html file with a summary of your profiled dataset.\n",
    "You can pass an argument for the specific path, otherwise it will save it in your OS temporary folder."
   ]
  },
  {
   "cell_type": "code",
   "execution_count": 19,
   "id": "52cfc114",
   "metadata": {},
   "outputs": [
    {
     "data": {
      "text/plain": [
       "'/Users/leandro/Desktop/my_dataset.html'"
      ]
     },
     "execution_count": 19,
     "metadata": {},
     "output_type": "execute_result"
    }
   ],
   "source": [
    "profile_viewer(profiles=[profile],output_path=\"/Users/leandro/Desktop/my_dataset.html\")"
   ]
  }
 ],
 "metadata": {
  "kernelspec": {
   "display_name": "whylogs-dev",
   "language": "python",
   "name": "whylogs-dev"
  },
  "language_info": {
   "codemirror_mode": {
    "name": "ipython",
    "version": 3
   },
   "file_extension": ".py",
   "mimetype": "text/x-python",
   "name": "python",
   "nbconvert_exporter": "python",
   "pygments_lexer": "ipython3",
   "version": "3.8.5"
  }
 },
 "nbformat": 4,
 "nbformat_minor": 5
}
